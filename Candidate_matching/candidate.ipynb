{
 "cells": [
  {
   "cell_type": "code",
   "execution_count": 5,
   "metadata": {},
   "outputs": [],
   "source": [
    "\n",
    "import pandas as pd\n",
    "import numpy as np\n",
    "import matplotlib.pyplot as plt\n",
    "import seaborn as sns\n",
    "%matplotlib inline"
   ]
  },
  {
   "cell_type": "code",
   "execution_count": 6,
   "metadata": {},
   "outputs": [],
   "source": [
    "df = pd.read_csv(\"UpdatedResumeDataSet.csv\")\n",
    "df1 = pd.read_csv(\"UpdatedResumeDataSet.csv\")"
   ]
  },
  {
   "cell_type": "code",
   "execution_count": 7,
   "metadata": {},
   "outputs": [
    {
     "data": {
      "text/plain": [
       "'Skills * Programming Languages: Python (pandas, numpy, scipy, scikit-learn, matplotlib), Sql, Java, JavaScript/JQuery. * Machine learning: Regression, SVM, NaÃ¯ve Bayes, KNN, Random Forest, Decision Trees, Boosting techniques, Cluster Analysis, Word Embedding, Sentiment Analysis, Natural Language processing, Dimensionality reduction, Topic Modelling (LDA, NMF), PCA & Neural Nets. * Database Visualizations: Mysql, SqlServer, Cassandra, Hbase, ElasticSearch D3.js, DC.js, Plotly, kibana, matplotlib, ggplot, Tableau. * Others: Regular Expression, HTML, CSS, Angular 6, Logstash, Kafka, Python Flask, Git, Docker, computer vision - Open CV and understanding of Deep learning.Education Details \\r\\n\\r\\nData Science Assurance Associate \\r\\n\\r\\nData Science Assurance Associate - Ernst & Young LLP\\r\\nSkill Details \\r\\nJAVASCRIPT- Exprience - 24 months\\r\\njQuery- Exprience - 24 months\\r\\nPython- Exprience - 24 monthsCompany Details \\r\\ncompany - Ernst & Young LLP\\r\\ndescription - Fraud Investigations and Dispute Services   Assurance\\r\\nTECHNOLOGY ASSISTED REVIEW\\r\\nTAR (Technology Assisted Review) assists in accelerating the review process and run analytics and generate reports.\\r\\n* Core member of a team helped in developing automated review platform tool from scratch for assisting E discovery domain, this tool implements predictive coding and topic modelling by automating reviews, resulting in reduced labor costs and time spent during the lawyers review.\\r\\n* Understand the end to end flow of the solution, doing research and development for classification models, predictive analysis and mining of the information present in text data. Worked on analyzing the outputs and precision monitoring for the entire tool.\\r\\n* TAR assists in predictive coding, topic modelling from the evidence by following EY standards. Developed the classifier models in order to identify \"red flags\" and fraud-related issues.\\r\\n\\r\\nTools & Technologies: Python, scikit-learn, tfidf, word2vec, doc2vec, cosine similarity, NaÃ¯ve Bayes, LDA, NMF for topic modelling, Vader and text blob for sentiment analysis. Matplot lib, Tableau dashboard for reporting.\\r\\n\\r\\nMULTIPLE DATA SCIENCE AND ANALYTIC PROJECTS (USA CLIENTS)\\r\\nTEXT ANALYTICS - MOTOR VEHICLE CUSTOMER REVIEW DATA * Received customer feedback survey data for past one year. Performed sentiment (Positive, Negative & Neutral) and time series analysis on customer comments across all 4 categories.\\r\\n* Created heat map of terms by survey category based on frequency of words * Extracted Positive and Negative words across all the Survey categories and plotted Word cloud.\\r\\n* Created customized tableau dashboards for effective reporting and visualizations.\\r\\nCHATBOT * Developed a user friendly chatbot for one of our Products which handle simple questions about hours of operation, reservation options and so on.\\r\\n* This chat bot serves entire product related questions. Giving overview of tool via QA platform and also give recommendation responses so that user question to build chain of relevant answer.\\r\\n* This too has intelligence to build the pipeline of questions as per user requirement and asks the relevant /recommended questions.\\r\\n\\r\\nTools & Technologies: Python, Natural language processing, NLTK, spacy, topic modelling, Sentiment analysis, Word Embedding, scikit-learn, JavaScript/JQuery, SqlServer\\r\\n\\r\\nINFORMATION GOVERNANCE\\r\\nOrganizations to make informed decisions about all of the information they store. The integrated Information Governance portfolio synthesizes intelligence across unstructured data sources and facilitates action to ensure organizations are best positioned to counter information risk.\\r\\n* Scan data from multiple sources of formats and parse different file formats, extract Meta data information, push results for indexing elastic search and created customized, interactive dashboards using kibana.\\r\\n* Preforming ROT Analysis on the data which give information of data which helps identify content that is either Redundant, Outdated, or Trivial.\\r\\n* Preforming full-text search analysis on elastic search with predefined methods which can tag as (PII) personally identifiable information (social security numbers, addresses, names, etc.) which frequently targeted during cyber-attacks.\\r\\nTools & Technologies: Python, Flask, Elastic Search, Kibana\\r\\n\\r\\nFRAUD ANALYTIC PLATFORM\\r\\nFraud Analytics and investigative platform to review all red flag cases.\\r\\nâ\\x80¢ FAP is a Fraud Analytics and investigative platform with inbuilt case manager and suite of Analytics for various ERP systems.\\r\\n* It can be used by clients to interrogate their Accounting systems for identifying the anomalies which can be indicators of fraud by running advanced analytics\\r\\nTools & Technologies: HTML, JavaScript, SqlServer, JQuery, CSS, Bootstrap, Node.js, D3.js, DC.js'"
      ]
     },
     "execution_count": 7,
     "metadata": {},
     "output_type": "execute_result"
    }
   ],
   "source": [
    "df['Resume'][0]"
   ]
  },
  {
   "cell_type": "code",
   "execution_count": 8,
   "metadata": {},
   "outputs": [
    {
     "data": {
      "text/plain": [
       "(962, 2)"
      ]
     },
     "execution_count": 8,
     "metadata": {},
     "output_type": "execute_result"
    }
   ],
   "source": [
    "df.shape"
   ]
  },
  {
   "cell_type": "code",
   "execution_count": 9,
   "metadata": {},
   "outputs": [
    {
     "data": {
      "text/plain": [
       "Category    object\n",
       "Resume      object\n",
       "dtype: object"
      ]
     },
     "execution_count": 9,
     "metadata": {},
     "output_type": "execute_result"
    }
   ],
   "source": [
    "df.dtypes"
   ]
  },
  {
   "cell_type": "code",
   "execution_count": 10,
   "metadata": {},
   "outputs": [
    {
     "data": {
      "text/plain": [
       "array(['Data Science', 'HR', 'Advocate', 'Arts', 'Web Designing',\n",
       "       'Mechanical Engineer', 'Sales', 'Health and fitness',\n",
       "       'Civil Engineer', 'Java Developer', 'Business Analyst',\n",
       "       'SAP Developer', 'Automation Testing', 'Electrical Engineering',\n",
       "       'Operations Manager', 'Python Developer', 'DevOps Engineer',\n",
       "       'Network Security Engineer', 'PMO', 'Database', 'Hadoop',\n",
       "       'ETL Developer', 'DotNet Developer', 'Blockchain', 'Testing'],\n",
       "      dtype=object)"
      ]
     },
     "execution_count": 10,
     "metadata": {},
     "output_type": "execute_result"
    }
   ],
   "source": [
    "df['Category'].unique()"
   ]
  },
  {
   "cell_type": "code",
   "execution_count": 11,
   "metadata": {},
   "outputs": [
    {
     "data": {
      "text/plain": [
       "Category\n",
       "Java Developer               84\n",
       "Testing                      70\n",
       "DevOps Engineer              55\n",
       "Python Developer             48\n",
       "Web Designing                45\n",
       "HR                           44\n",
       "Hadoop                       42\n",
       "Blockchain                   40\n",
       "ETL Developer                40\n",
       "Operations Manager           40\n",
       "Data Science                 40\n",
       "Sales                        40\n",
       "Mechanical Engineer          40\n",
       "Arts                         36\n",
       "Database                     33\n",
       "Electrical Engineering       30\n",
       "Health and fitness           30\n",
       "PMO                          30\n",
       "Business Analyst             28\n",
       "DotNet Developer             28\n",
       "Automation Testing           26\n",
       "Network Security Engineer    25\n",
       "SAP Developer                24\n",
       "Civil Engineer               24\n",
       "Advocate                     20\n",
       "Name: count, dtype: int64"
      ]
     },
     "execution_count": 11,
     "metadata": {},
     "output_type": "execute_result"
    }
   ],
   "source": [
    "df['Category'].value_counts()"
   ]
  },
  {
   "cell_type": "code",
   "execution_count": 12,
   "metadata": {},
   "outputs": [
    {
     "data": {
      "image/png": "[encoded data removed]",
      "text/plain": [
       "<Figure size 1500x700 with 1 Axes>"
      ]
     },
     "metadata": {},
     "output_type": "display_data"
    }
   ],
   "source": [
    "plt.figure(figsize=(15,7))\n",
    "sns.countplot(df['Category'])\n",
    "plt.xticks(rotation=90)\n",
    "plt.show()"
   ]
  },
  {
   "cell_type": "code",
   "execution_count": 13,
   "metadata": {},
   "outputs": [
    {
     "data": {
      "text/plain": [
       "0      Skills * Programming Languages: Python (pandas...\n",
       "1      Education Details \\r\\nMay 2013 to May 2017 B.E...\n",
       "2      Areas of Interest Deep Learning, Control Syste...\n",
       "3      Skills â¢ R â¢ Python â¢ SAP HANA â¢ Table...\n",
       "4      Education Details \\r\\n MCA   YMCAUST,  Faridab...\n",
       "                             ...                        \n",
       "957    Computer Skills: â¢ Proficient in MS office (...\n",
       "958    â Willingness to accept the challenges. â ...\n",
       "959    PERSONAL SKILLS â¢ Quick learner, â¢ Eagerne...\n",
       "960    COMPUTER SKILLS & SOFTWARE KNOWLEDGE MS-Power ...\n",
       "961    Skill Set OS Windows XP/7/8/8.1/10 Database MY...\n",
       "Name: Resume, Length: 962, dtype: object"
      ]
     },
     "execution_count": 13,
     "metadata": {},
     "output_type": "execute_result"
    }
   ],
   "source": [
    "df['Resume']"
   ]
  },
  {
   "cell_type": "code",
   "execution_count": 14,
   "metadata": {},
   "outputs": [],
   "source": [
    "import re"
   ]
  },
  {
   "cell_type": "code",
   "execution_count": 15,
   "metadata": {},
   "outputs": [],
   "source": [
    "def cleaning(text):\n",
    "    cleantxt = re.sub('http\\S+\\s',' ',text)\n",
    "    cleantxt = re.sub('@\\S+\\s',' ',cleantxt)\n",
    "    cleantxt = re.sub('#\\S+\\s',' ',cleantxt)\n",
    "    cleantxt = re.sub('RT|cc',' ',cleantxt)\n",
    "    cleantxt = re.sub('[%s]' % re.escape(\"\"\"!\"#$%&'()*+,-./:;<=>?@[\\]^_`{|}~\"\"\"),'',cleantxt)\n",
    "    cleantxt = re.sub(r'[^\\x00-\\x7f]',' ',cleantxt)\n",
    "    cleantxt = re.sub('\\s+',' ',cleantxt)\n",
    "    return cleantxt"
   ]
  },
  {
   "cell_type": "code",
   "execution_count": null,
   "metadata": {},
   "outputs": [],
   "source": []
  },
  {
   "cell_type": "code",
   "execution_count": 16,
   "metadata": {},
   "outputs": [],
   "source": [
    "df['Resume']=df['Resume'].apply(lambda x: cleaning(x))"
   ]
  },
  {
   "cell_type": "code",
   "execution_count": 17,
   "metadata": {},
   "outputs": [
    {
     "data": {
      "text/plain": [
       "'Education Details BTech Rayat and Bahra Institute of Engineering and Biotechnology Data Science Data Science Skill Details Numpy Exprience Less than 1 year months Machine Learning Exprience Less than 1 year months Tensorflow Exprience Less than 1 year months Scikit Exprience Less than 1 year months Python Exprience Less than 1 year months GCP Exprience Less than 1 year months Pandas Exprience Less than 1 year months Neural Network Exprience Less than 1 year monthsCompany Details company Wipro description Bhawana Aggarwal EMailbhawanachd Phone 09876971076 VVersatile highenergy professional targeting challenging assignments in Machine PROFILE SUMMARY An IT professional with knowledge and experience of 2 years in Wipro Technologies in Machine Learning Deep Learning Data Science Python Software Development Skilled in managing endtoend development and software products projects from inception requirement specs planning designing implementation configuration and documentation Knowledge on Python Machine Learning Deep Learning data Science Algorithms Neural Network NLP GCP Knowledge on Python Libraries like Numpy Pandas Seaborn Matplotlib Cufflinks Knowledge on different algorithms in Machine learning like KNN Decision Tree Bias variance Trade off Support vector MachineSVMLogistic Regression Neural networks Have knowledge on unsupervised Supervised and reinforcement data Programming experience in relational platforms like MySQLOracle Have knowledge on Some programming language like CJava Experience in cloud based environment like Google Cloud Working on different Operating System like Linux Ubuntu Windows Good interpersonal and communication skills Problem solving skills with the ability to think laterally and to think with a medium term and long term perspective Flexibility and an open attitude to change Ability to create define and own frameworks with a strong emphasis on code reusability TECHNICAL SKILLS Programming Languages Python C Libraries Seaborn Numpy Pandas Cufflinks Matplotlib Algorithms KNN Decision Tree Linear regression Logistic Regression Neural Networks K means clustering Tensorflow SVM Databases SQL Oracle Operating Systems Linux Window Development Environments NetBeans Notebooks Sublime Ticketing tools Service Now Remedy Education UG Education BTech Computer Science from Rayat and Bahra Institute of Engineering and Biotechnology passed with 784in 2016 Schooling XII in 2012 from Moti Ram Arya Sr Secondary SchoolPassed with 784 X in 2010 from Valley Public School Passed with 94 CGPA WORK EXPERINCE Title Wipro Neural Intelligence Platform Team Size 5 Brief Wipro s Neural Intelligence Platform harnesses the power of automation and artificial intelligence technologies natural language processing NLP cognitive machine learning and analytics The platform comprises three layers a data engagement platform that can easily a ess and manage multiple structured and unstructured data sources an intent assessment and reasoning engine that includes sentiment and predictive analytics and a deep machine learning engine that can sense act and learn over time The project entailed automating responses to user queries at the earliest The Monster Bot using the power of Deep Machine Learning NLP to handle such queries User can see the how their queries can be answered quickly like allL1 activities can be eliminated Entity Extractor This involves text extraction and NLP for fetching out important information from the text like dates names places contact numbers etc This involves Regex Bluemix NLU api s and machine learning using Tensor flow for further learning of new entities Classifier This involves the classifications of classes training of dataset and predicting the output using the SKLearn classifier MNB SVM SGD as Classifier and SGD for the optimization to map the user queries with the best suited response and make the system efficient NER A Deep Learning NER Model is trained to extract the entities from the text Entities like Roles Skills Organizations can be extracted from raw text RNNLSTM Bidirectional model is trained for extracting such entities using Keras TensorFlow framework OTHER PROJECTS Title Diabetes Detection Brief Developed the software which can detect whether the person is suffering from Diabetes or not and got the third prize in it TRAINING AND CE IFICATIONS Title Python Training Machine Learning Data Science Deep Learning Organization Udemy Coursera Machine Learning Deep Learning Personal Profile Father s Name Mr Tirlok Aggarwal Language Known English Hindi Marital Status Single Date of BirthGender19931220YYYYMMDD F company Wipro description Developing programs in Python company Wipro description Title Wipro Neural Intelligence Platform Team Size 5 Brief Wipro s Neural Intelligence Platform harnesses the power of automation and artificial intelligence technologies natural language processing NLP cognitive machine learning and analytics The platform comprises three layers a data engagement platform that can easily a ess and manage multiple structured and unstructured data sources an intent assessment and reasoning engine that includes sentiment and predictive analytics and a deep machine learning engine that can sense act and learn over time The project entailed automating responses to user queries at the earliest The Monster Bot using the power of Deep Machine Learning NLP to handle such queries User can see the how their queries can be answered quickly like allL1 activities can be eliminated Entity Extractor This involves text extraction and NLP for fetching out important information from the text like dates names places contact numbers etc This involves Regex Bluemix NLU api s and machine learning using Tensor flow for further learning of new entities Classifier This involves the classifications of classes training of dataset and predicting the output using the SKLearn classifier MNB SVM SGD as Classifier and SGD for the optimization to map the user queries with the best suited response and make the system efficient NER A Deep Learning NER Model is trained to extract the entities from the text Entities like Roles Skills Organizations can be extracted from raw text RNNLSTM Bidirectional model is trained for extracting such entities using Keras TensorFlow framework company Wipro Technologies description An IT professional with knowledge and experience of 2 years in Wipro Technologies in Machine Learning Deep Learning Data Science Python Software Development Skilled in managing endtoend development and software products projects from inception requirement specs planning designing implementation configuration and documentation Knowledge on Python Machine Learning Deep Learning data Science Algorithms Neural Network NLP GCP Knowledge on Python Libraries like Numpy Pandas Seaborn Matplotlib Cufflinks Knowledge on different algorithms in Machine learning like KNN Decision Tree Bias variance Trade off Support vector MachineSVMLogistic Regression Neural networks Have knowledge on unsupervised Supervised and reinforcement data Programming experience in relational platforms like MySQLOracle Have knowledge on Some programming language like CJava Experience in cloud based environment like Google Cloud Working on different Operating System like Linux Ubuntu Windows Good interpersonal and communication skills Problem solving skills with the ability to think laterally and to think with a medium term and long term perspective Flexibility and an open attitude to change Ability to create define and own frameworks with a strong emphasis on code reusability'"
      ]
     },
     "execution_count": 17,
     "metadata": {},
     "output_type": "execute_result"
    }
   ],
   "source": [
    "df['Resume'][7]"
   ]
  },
  {
   "cell_type": "markdown",
   "metadata": {},
   "source": [
    "# Applying LabelEncoder"
   ]
  },
  {
   "cell_type": "code",
   "execution_count": 18,
   "metadata": {},
   "outputs": [],
   "source": [
    "from sklearn.preprocessing import LabelEncoder\n",
    "le = LabelEncoder()"
   ]
  },
  {
   "cell_type": "code",
   "execution_count": 19,
   "metadata": {},
   "outputs": [],
   "source": [
    "df['Category'] = le.fit_transform(df['Category'])"
   ]
  },
  {
   "cell_type": "code",
   "execution_count": 20,
   "metadata": {},
   "outputs": [
    {
     "data": {
      "text/plain": [
       "0       6\n",
       "1       6\n",
       "2       6\n",
       "3       6\n",
       "4       6\n",
       "       ..\n",
       "957    23\n",
       "958    23\n",
       "959    23\n",
       "960    23\n",
       "961    23\n",
       "Name: Category, Length: 962, dtype: int32"
      ]
     },
     "execution_count": 20,
     "metadata": {},
     "output_type": "execute_result"
    }
   ],
   "source": [
    "df['Category']"
   ]
  },
  {
   "cell_type": "code",
   "execution_count": 21,
   "metadata": {},
   "outputs": [
    {
     "data": {
      "text/plain": [
       "array([ 6, 12,  0,  1, 24, 16, 22, 14,  5, 15,  4, 21,  2, 11, 18, 20,  8,\n",
       "       17, 19,  7, 13, 10,  9,  3, 23])"
      ]
     },
     "execution_count": 21,
     "metadata": {},
     "output_type": "execute_result"
    }
   ],
   "source": [
    "df['Category'].unique()"
   ]
  },
  {
   "cell_type": "code",
   "execution_count": 22,
   "metadata": {},
   "outputs": [
    {
     "data": {
      "text/plain": [
       "array(['Data Science', 'HR', 'Advocate', 'Arts', 'Web Designing',\n",
       "       'Mechanical Engineer', 'Sales', 'Health and fitness',\n",
       "       'Civil Engineer', 'Java Developer', 'Business Analyst',\n",
       "       'SAP Developer', 'Automation Testing', 'Electrical Engineering',\n",
       "       'Operations Manager', 'Python Developer', 'DevOps Engineer',\n",
       "       'Network Security Engineer', 'PMO', 'Database', 'Hadoop',\n",
       "       'ETL Developer', 'DotNet Developer', 'Blockchain', 'Testing'],\n",
       "      dtype=object)"
      ]
     },
     "execution_count": 22,
     "metadata": {},
     "output_type": "execute_result"
    }
   ],
   "source": [
    "df1['Category'].unique()"
   ]
  },
  {
   "cell_type": "markdown",
   "metadata": {},
   "source": [
    "## Vectorization"
   ]
  },
  {
   "cell_type": "code",
   "execution_count": 23,
   "metadata": {},
   "outputs": [],
   "source": [
    "\n",
    "\n",
    "from sklearn.feature_extraction.text import TfidfVectorizer\n",
    "tfidf = TfidfVectorizer(stop_words='english')\n",
    "\n",
    "tfidf.fit(df['Resume'])\n",
    "requredTaxt  = tfidf.transform(df['Resume'])"
   ]
  },
  {
   "cell_type": "code",
   "execution_count": 24,
   "metadata": {},
   "outputs": [],
   "source": [
    "from sklearn.feature_extraction.text import TfidfVectorizer\n",
    "tfidf = TfidfVectorizer(stop_words='english')\n",
    "\n",
    "req_text = tfidf.fit_transform(df['Resume'])"
   ]
  },
  {
   "cell_type": "code",
   "execution_count": null,
   "metadata": {},
   "outputs": [],
   "source": []
  },
  {
   "cell_type": "code",
   "execution_count": 46,
   "metadata": {},
   "outputs": [],
   "source": [
    "from sklearn.model_selection import train_test_split\n",
    "x_train,x_test,y_train,y_test = train_test_split(req_text,df['Category'], test_size=0.2,random_state=4)"
   ]
  },
  {
   "cell_type": "markdown",
   "metadata": {},
   "source": [
    "# Model selection"
   ]
  },
  {
   "cell_type": "code",
   "execution_count": 47,
   "metadata": {},
   "outputs": [],
   "source": [
    "from sklearn.tree import DecisionTreeClassifier\n",
    "from sklearn.neighbors import KNeighborsClassifier\n",
    "from sklearn.naive_bayes import GaussianNB\n",
    "from sklearn.svm import SVC\n",
    "from sklearn.ensemble import RandomForestClassifier\n",
    "from sklearn.metrics import accuracy_score\n",
    "from sklearn.model_selection import cross_val_score"
   ]
  },
  {
   "cell_type": "code",
   "execution_count": 48,
   "metadata": {},
   "outputs": [
    {
     "name": "stdout",
     "output_type": "stream",
     "text": [
      "0.9844559585492227\n"
     ]
    },
    {
     "data": {
      "text/plain": [
       "array([0.97101449, 1.        , 1.        , 1.        , 1.        ,\n",
       "       1.        , 1.        ])"
      ]
     },
     "execution_count": 48,
     "metadata": {},
     "output_type": "execute_result"
    }
   ],
   "source": [
    "dt = DecisionTreeClassifier()\n",
    "dt.fit(x_train,y_train)\n",
    "dtpred = dt.predict(x_test)\n",
    "print(accuracy_score(y_test,dtpred))\n",
    "X = req_text\n",
    "y = df['Category']\n",
    "cross_val_score(dt, X, y, cv=7)\n"
   ]
  },
  {
   "cell_type": "code",
   "execution_count": 49,
   "metadata": {},
   "outputs": [
    {
     "name": "stdout",
     "output_type": "stream",
     "text": [
      "0.9948186528497409\n",
      "0.9958592132505176\n"
     ]
    }
   ],
   "source": [
    "rf = RandomForestClassifier()\n",
    "rf.fit(x_train,y_train)\n",
    "rfpred = rf.predict(x_test)\n",
    "print(accuracy_score(y_test,rfpred))\n",
    "X = req_text\n",
    "y = df['Category']\n",
    "print(np.mean(cross_val_score(rf, X, y, cv=7)))"
   ]
  },
  {
   "cell_type": "code",
   "execution_count": 50,
   "metadata": {},
   "outputs": [
    {
     "name": "stdout",
     "output_type": "stream",
     "text": [
      "0.9844559585492227\n",
      "0.9917033141406356\n"
     ]
    }
   ],
   "source": [
    "knn = KNeighborsClassifier()\n",
    "knn.fit(x_train,y_train)\n",
    "knnpred = knn.predict(x_test)\n",
    "print(accuracy_score(y_test,knnpred))\n",
    "X = req_text\n",
    "y = df['Category']\n",
    "print(np.mean(cross_val_score(knn, X, y, cv=7)))\n"
   ]
  },
  {
   "cell_type": "code",
   "execution_count": 51,
   "metadata": {},
   "outputs": [
    {
     "name": "stdout",
     "output_type": "stream",
     "text": [
      "0.9948186528497409\n",
      "0.9958592132505176\n"
     ]
    }
   ],
   "source": [
    "nb = SVC()\n",
    "nb.fit(x_train,y_train)\n",
    "nbpred = nb.predict(x_test)\n",
    "print(accuracy_score(y_test,nbpred))\n",
    "X = req_text\n",
    "y = df['Category']\n",
    "print(np.mean(cross_val_score(nb, X, y, cv=7)))\n"
   ]
  },
  {
   "cell_type": "markdown",
   "metadata": {},
   "source": [
    "## Storing the model"
   ]
  },
  {
   "cell_type": "code",
   "execution_count": 52,
   "metadata": {},
   "outputs": [],
   "source": [
    "import pickle\n",
    "pickle.dump(rf,open('rfc.pkl','wb'))\n",
    "pickle.dump(tfidf,open('tfidf.pkl','wb'))\n"
   ]
  },
  {
   "cell_type": "code",
   "execution_count": 27,
   "metadata": {},
   "outputs": [],
   "source": [
    "vari = req_text.toarray()"
   ]
  },
  {
   "cell_type": "code",
   "execution_count": 28,
   "metadata": {},
   "outputs": [
    {
     "data": {
      "text/plain": [
       "array([[0., 0., 0., ..., 0., 0., 0.],\n",
       "       [0., 0., 0., ..., 0., 0., 0.],\n",
       "       [0., 0., 0., ..., 0., 0., 0.],\n",
       "       ...,\n",
       "       [0., 0., 0., ..., 0., 0., 0.],\n",
       "       [0., 0., 0., ..., 0., 0., 0.],\n",
       "       [0., 0., 0., ..., 0., 0., 0.]])"
      ]
     },
     "execution_count": 28,
     "metadata": {},
     "output_type": "execute_result"
    }
   ],
   "source": [
    "vari"
   ]
  },
  {
   "cell_type": "code",
   "execution_count": 31,
   "metadata": {},
   "outputs": [],
   "source": [
    "import re\n",
    "import nltk\n",
    "from nltk.corpus import stopwords\n",
    "from nltk.stem import WordNetLemmatizer\n",
    "\n",
    "# nltk.download('stopwords')\n",
    "# nltk.download('wordnet')\n",
    "def cleaning(text, remove_stopwords=False, lemmatize=False):\n",
    "    lemmatizer = WordNetLemmatizer()\n",
    "    stop_words = set(stopwords.words('english'))\n",
    "    \n",
    "    cleantxt = re.sub(r'http\\S+', '', text)\n",
    "    cleantxt = re.sub(r'@\\S+', '', cleantxt)\n",
    "    cleantxt = re.sub(r'#(\\S+)', r'\\1', cleantxt)\n",
    "    cleantxt = re.sub(r'\\bRT\\b|\\bcc\\b', '', cleantxt)\n",
    "    cleantxt = re.sub(r'[^A-Za-z0-9.,]', ' ', cleantxt)\n",
    "    cleantxt = re.sub(r'\\s+', ' ', cleantxt)\n",
    "    cleantxt = cleantxt.strip()\n",
    "    cleantxt = cleantxt.lower()\n",
    "\n",
    "    words = cleantxt.split()\n",
    "\n",
    "    if remove_stopwords:\n",
    "        words = [word for word in words if word not in stop_words]\n",
    "\n",
    "    if lemmatize:\n",
    "        words = [lemmatizer.lemmatize(word) for word in words]\n",
    "\n",
    "    cleantxt = ' '.join(words)\n",
    "    \n",
    "    return cleantxt"
   ]
  },
  {
   "cell_type": "code",
   "execution_count": 32,
   "metadata": {},
   "outputs": [
    {
     "name": "stdout",
     "output_type": "stream",
     "text": [
      "Collecting PyPDF\n",
      "  Obtaining dependency information for PyPDF from https://files.pythonhosted.org/packages/c9/d1/450b19bbdbb2c802f554312c62ce2a2c0d8744fe14735bc70ad2803578c7/pypdf-4.2.0-py3-none-any.whl.metadata\n",
      "  Downloading pypdf-4.2.0-py3-none-any.whl.metadata (7.4 kB)\n",
      "Using cached pypdf-4.2.0-py3-none-any.whl (290 kB)\n",
      "Installing collected packages: PyPDF\n",
      "Successfully installed PyPDF-4.2.0\n"
     ]
    }
   ],
   "source": [
    "!pip install PyPDF\n"
   ]
  },
  {
   "cell_type": "code",
   "execution_count": 35,
   "metadata": {},
   "outputs": [],
   "source": [
    "from pypdf import PdfReader\n",
    "pd = PdfReader(r\"C:\\Users\\USER\\Documents\\AIML RESUME.pdf\")\n"
   ]
  },
  {
   "cell_type": "code",
   "execution_count": 37,
   "metadata": {},
   "outputs": [],
   "source": [
    "text = ''\n",
    "for i in pd.pages:\n",
    "    text += i.extract_text()"
   ]
  },
  {
   "cell_type": "code",
   "execution_count": 38,
   "metadata": {},
   "outputs": [
    {
     "data": {
      "text/plain": [
       "'ANKITH \\n7975308246 | ankith15bhandary@gmail.com | Bengaluru, Karnataka \\nGithub: https://github.com/Ankith15                                                                                linkedin: www.linkedin.com/in/ankith-bhandary-642918240  \\nAbout Me:  \\nPassionate in AIML  with a strong foundation in data analytics, machine learning and statistics. Experience includes working with machine learning and Deep \\nlearning techniques to extract valuable insights from data. Passionate about applying Deep learning to real-time data and exploring its potential when working \\nwith image dataset. I would like to contribute my skills and knowledge and continue my journey in the dynamic field of AIML. \\n \\nExperience: \\nBosch India Limited | Bidadi Ramnagara, Karnataka \\nData Analyst Intern | 12/2023 - 02/2024 \\n \\nWorking as a Data Analyst intern at Bosch India Limited. In this internship I have gained a good experience in machine learning project from EDA to model \\nbuilding. and also used Power BI for creating dashboards for day today business understanding. Here I have contributed to three projects. \\n \\n1. Model Building For Feed pump-ML Project: This is a Machine Learning project where I conducted Exploratory Data Analysis (EDA). The objective was to \\neliminate the last stage of a product by analyzing the results of the first three stages. To achieve this, I used Anaconda Python and performed EDA using \\nlibraries such as NumPy, pandas, seaborn, and Matplotlib. Then we have created an ML-model to achieve an remarkable accuracy of 98%.In this process we \\nhave tried with different algorithms including Random forest ,decision Tree, Xgboost Etc. This project aims to identify the relationship between the stages and \\ndetermine the importance of the first three stages in predicting the final stage outcome. \\n2. Pump traceability report: In this project, we track the station-wise product updates. In the first stage we take the data from the data base using sql querries \\nand store it in the database. Each product passes through several stations, and if it passes a particular station, the status should turn green; otherwise, it should \\nbe red. I utilized conditional formatting in Power BI for this purpose. In case of a red status, the product is rerouted to a rework station for defect clearance. \\nThis project significantly improved product tracking efficiency and management. \\n3. Calibration VT Analysis: This project involves studying the value time in the calibration bench of Fuel Injection Pump. Firstly the data is taken from excel \\nand applied some basic preprocessing steps to it. I created a Power BI dashboard to visualize the difference between the given value time and the actual \\naverage value time. This initiative helped in reducing the value time and enhancing calibration efficiency. \\n \\nPROJECTS: \\n Fruits and Vegetable classifier : I have designed and implemented a convolution neural network (CNN) model to classify four different \\nvegetables and four fruits, achieving a remarkable 98% accuracy. Used an data augmentation techniques to enhance the dataset and performed careful \\nimage preprocessing, including resizing and morphing, to ensure optimal model performance. This project showcases their expertise in deep learning, \\ncomputer vision, and image analysis, \\nDecoding Player Performance in Cricket Decoding Player Performance in Cricket:  A Statistical Analysis using \\nSurvival Analysis and Mean performances of Indian Players using python. this is the project based on the multivariate technique. In this we have taken some \\nof the Indian players and analyzed their performance over the years. In this both the bowlers and the batsman’s performance is analyzed and given the \\nconclusion. \\n Loan Status Prediction Using Machine Learning : This is a Machine learning project which is on the banking data where the loan \\nstatus of the customer is analyzed using the algorithms. Here we have taken two models i.e. support vector machine and logistic regression and compared \\nthe performance of the two models. Both of these have the different working principles and they work differently for different types of the datasets. \\n \\nSkills \\nPython,  SQL, Power BI, Microsoft Excel, Data Analysis Skills, Deep Learning, Numpy, Pandas, Seaborn, Scikit-Learn,  Regression \\nanalysis, Analysis skills, Machine learning,  Data collection, Microsoft PowerPoint, Communication skills. \\n \\nEducation \\nJain(Deemed To Be) University | Bangalore, Karnataka \\nMSc Data Science and Analytics |                                                                                                                            2022 - 2024 \\nSt Aloysius College(Autonomous) Mangalore | Mangalore, Karnataka \\nBSc(EcSM) |                                                                                                                                                               2019 – 2022 \\nCertificates: \\n\\uf0b7 Certificate Course in Data Science from Chools (Oct 23- Jan 24)  \\n\\uf0b7 Certificate Course in Data Analytics from Chools (Oct 23- Jan 24)  \\nLanguage: \\n English, Kannada, Hindi. '"
      ]
     },
     "execution_count": 38,
     "metadata": {},
     "output_type": "execute_result"
    }
   ],
   "source": [
    "text"
   ]
  },
  {
   "cell_type": "code",
   "execution_count": 40,
   "metadata": {},
   "outputs": [],
   "source": [
    "textt=cleaning(text)"
   ]
  },
  {
   "cell_type": "code",
   "execution_count": 41,
   "metadata": {},
   "outputs": [
    {
     "data": {
      "text/plain": [
       "'ankith 7975308246 ankith15bhandary bengaluru, karnataka github linkedin www.linkedin.com in ankith bhandary 642918240 about me passionate in aiml with a strong foundation in data analytics, machine learning and statistics. experience includes working with machine learning and deep learning techniques to extract valuable insights from data. passionate about applying deep learning to real time data and exploring its potential when working with image dataset. i would like to contribute my skills and knowledge and continue my journey in the dynamic field of aiml. experience bosch india limited bidadi ramnagara, karnataka data analyst intern 12 2023 02 2024 working as a data analyst intern at bosch india limited. in this internship i have gained a good experience in machine learning project from eda to model building. and also used power bi for creating dashboards for day today business understanding. here i have contributed to three projects. 1. model building for feed pump ml project this is a machine learning project where i conducted exploratory data analysis eda . the objective was to eliminate the last stage of a product by analyzing the results of the first three stages. to achieve this, i used anaconda python and performed eda using libraries such as numpy, pandas, seaborn, and matplotlib. then we have created an ml model to achieve an remarkable accuracy of 98 .in this process we have tried with different algorithms including random forest ,decision tree, xgboost etc. this project aims to identify the relationship between the stages and determine the importance of the first three stages in predicting the final stage outcome. 2. pump traceability report in this project, we track the station wise product updates. in the first stage we take the data from the data base using sql querries and store it in the database. each product passes through several stations, and if it passes a particular station, the status should turn green otherwise, it should be red. i utilized conditional formatting in power bi for this purpose. in case of a red status, the product is rerouted to a rework station for defect clearance. this project significantly improved product tracking efficiency and management. 3. calibration vt analysis this project involves studying the value time in the calibration bench of fuel injection pump. firstly the data is taken from excel and applied some basic preprocessing steps to it. i created a power bi dashboard to visualize the difference between the given value time and the actual average value time. this initiative helped in reducing the value time and enhancing calibration efficiency. projects fruits and vegetable classifier i have designed and implemented a convolution neural network cnn model to classify four different vegetables and four fruits, achieving a remarkable 98 accuracy. used an data augmentation techniques to enhance the dataset and performed careful image preprocessing, including resizing and morphing, to ensure optimal model performance. this project showcases their expertise in deep learning, computer vision, and image analysis, decoding player performance in cricket decoding player performance in cricket a statistical analysis using survival analysis and mean performances of indian players using python. this is the project based on the multivariate technique. in this we have taken some of the indian players and analyzed their performance over the years. in this both the bowlers and the batsman s performance is analyzed and given the conclusion. loan status prediction using machine learning this is a machine learning project which is on the banking data where the loan status of the customer is analyzed using the algorithms. here we have taken two models i.e. support vector machine and logistic regression and compared the performance of the two models. both of these have the different working principles and they work differently for different types of the datasets. skills python, sql, power bi, microsoft excel, data analysis skills, deep learning, numpy, pandas, seaborn, scikit learn, regression analysis, analysis skills, machine learning, data collection, microsoft powerpoint, communication skills. education jain deemed to be university bangalore, karnataka msc data science and analytics 2022 2024 st aloysius college autonomous mangalore mangalore, karnataka bsc ecsm 2019 2022 certificates certificate course in data science from chools oct 23 jan 24 certificate course in data analytics from chools oct 23 jan 24 language english, kannada, hindi.'"
      ]
     },
     "execution_count": 41,
     "metadata": {},
     "output_type": "execute_result"
    }
   ],
   "source": [
    "textt"
   ]
  },
  {
   "cell_type": "code",
   "execution_count": 43,
   "metadata": {},
   "outputs": [],
   "source": [
    "vec = tfidf.transform([textt])"
   ]
  },
  {
   "cell_type": "code",
   "execution_count": 46,
   "metadata": {},
   "outputs": [],
   "source": [
    "vec =vec.toarray()"
   ]
  },
  {
   "cell_type": "code",
   "execution_count": 48,
   "metadata": {},
   "outputs": [],
   "source": [
    "from sklearn.metrics.pairwise import cosine_similarity\n",
    "cosi = cosine_similarity(vari)"
   ]
  },
  {
   "cell_type": "code",
   "execution_count": null,
   "metadata": {},
   "outputs": [],
   "source": []
  }
 ],
 "metadata": {
  "kernelspec": {
   "display_name": "ankith2",
   "language": "python",
   "name": "python3"
  },
  "language_info": {
   "codemirror_mode": {
    "name": "ipython",
    "version": 3
   },
   "file_extension": ".py",
   "mimetype": "text/x-python",
   "name": "python",
   "nbconvert_exporter": "python",
   "pygments_lexer": "ipython3",
   "version": "3.11.4"
  }
 },
 "nbformat": 4,
 "nbformat_minor": 2
}
